{
 "cells": [
  {
   "cell_type": "markdown",
   "metadata": {
    "id": "YpGFMiKfiTuk"
   },
   "source": [
    "# PyTorch Metric Learning\n",
    "See the documentation [here](https://kevinmusgrave.github.io/pytorch-metric-learning/)"
   ]
  },
  {
   "cell_type": "markdown",
   "metadata": {
    "id": "Ix6axXiRiaal"
   },
   "source": [
    "## Install the packages"
   ]
  },
  {
   "cell_type": "code",
   "execution_count": null,
   "metadata": {
    "colab": {
     "base_uri": "https://localhost:8080/"
    },
    "id": "yhkMjfZFVyxM",
    "outputId": "1a3ae9d3-70d8-43c3-dd7e-1c9cb5b77332"
   },
   "outputs": [],
   "source": [
    "!pip install pytorch-metric-learning\n",
    "!pip install -q faiss-gpu\n",
    "!git clone https://github.com/akamaster/pytorch_resnet_cifar10"
   ]
  },
  {
   "cell_type": "markdown",
   "metadata": {
    "id": "arrmHAWJiffp"
   },
   "source": [
    "## Import the packages"
   ]
  },
  {
   "cell_type": "code",
   "execution_count": null,
   "metadata": {
    "id": "u-TsIJjkVmwt"
   },
   "outputs": [],
   "source": [
    "%matplotlib inline\n",
    "import matplotlib.pyplot as plt\n",
    "import numpy as np\n",
    "import torch\n",
    "import torchvision\n",
    "from pytorch_resnet_cifar10 import resnet\n",
    "from torchvision import datasets, transforms\n",
    "\n",
    "from pytorch_metric_learning.distances import CosineSimilarity\n",
    "from pytorch_metric_learning.utils import common_functions as c_f\n",
    "from pytorch_metric_learning.utils.inference import InferenceModel, MatchFinder"
   ]
  },
  {
   "cell_type": "markdown",
   "metadata": {
    "id": "TAqGqYrnihQc"
   },
   "source": [
    "## Create helper functions"
   ]
  },
  {
   "cell_type": "code",
   "execution_count": null,
   "metadata": {
    "id": "WdUzoef_WtCa"
   },
   "outputs": [],
   "source": [
    "def print_decision(is_match):\n",
    "    if is_match:\n",
    "        print(\"Same class\")\n",
    "    else:\n",
    "        print(\"Different class\")\n",
    "\n",
    "\n",
    "mean = [0.485, 0.456, 0.406]\n",
    "std = [0.229, 0.224, 0.225]\n",
    "\n",
    "inv_normalize = transforms.Normalize(\n",
    "    mean=[-m / s for m, s in zip(mean, std)], std=[1 / s for s in std]\n",
    ")\n",
    "\n",
    "\n",
    "def imshow(img, figsize=(8, 4)):\n",
    "    img = inv_normalize(img)\n",
    "    npimg = img.numpy()\n",
    "    plt.figure(figsize=figsize)\n",
    "    plt.imshow(np.transpose(npimg, (1, 2, 0)))\n",
    "    plt.show()"
   ]
  },
  {
   "cell_type": "markdown",
   "metadata": {
    "id": "sZl6T8MjiuOD"
   },
   "source": [
    "## Create the dataset and load the trained model"
   ]
  },
  {
   "cell_type": "code",
   "execution_count": null,
   "metadata": {
    "colab": {
     "base_uri": "https://localhost:8080/",
     "height": 101,
     "referenced_widgets": [
      "1b34a41cf4464908bca20fd96a79d14c",
      "de581210f87d44dcaa2635af2e18cdae",
      "e265fe42b65f4bcf8094a11236d0712b",
      "5614a7f3118b4a139e79a978787da3e4",
      "496ffb9dc80c4341819fd92e38de2e90",
      "7a3f89c1cad445a88c488278d2a4cf7e",
      "9edaff6c2c654aae93310c7df1015ce1",
      "9f2e34c751d741a79746f146de2fa020",
      "0536d6fcec724304ae99a1fec79c0abc",
      "e8dbeacd35534160a5d9a73e1435e80f",
      "8b5a365ffd044a88afa91232cf9a9e9f"
     ]
    },
    "id": "3rDNNVjjito4",
    "outputId": "3d63f71a-1ff5-4667-9c85-150dbba95a96"
   },
   "outputs": [],
   "source": [
    "transform = transforms.Compose(\n",
    "    [transforms.ToTensor(), transforms.Normalize(mean=mean, std=std)]\n",
    ")\n",
    "\n",
    "dataset = datasets.CIFAR10(\n",
    "    root=\"CIFAR10_Dataset\", train=False, transform=transform, download=True\n",
    ")\n",
    "labels_to_indices = c_f.get_labels_to_indices(dataset.targets)\n",
    "model = torch.nn.DataParallel(resnet.resnet20())\n",
    "checkpoint = torch.load(\"pytorch_resnet_cifar10/pretrained_models/resnet20-12fca82f.th\")\n",
    "model.load_state_dict(checkpoint[\"state_dict\"])\n",
    "model.module.linear = c_f.Identity()\n",
    "model.to(torch.device(\"cuda\"))\n",
    "print(\"done model loading\")"
   ]
  },
  {
   "cell_type": "markdown",
   "metadata": {
    "id": "b176nhrwimmf"
   },
   "source": [
    "## Create the InferenceModel wrapper"
   ]
  },
  {
   "cell_type": "code",
   "execution_count": null,
   "metadata": {
    "id": "0m_bCb8-h-WV"
   },
   "outputs": [],
   "source": [
    "match_finder = MatchFinder(distance=CosineSimilarity(), threshold=0.7)\n",
    "inference_model = InferenceModel(model, match_finder=match_finder)\n",
    "\n",
    "# cars and frogs\n",
    "classA, classB = labels_to_indices[1], labels_to_indices[6]"
   ]
  },
  {
   "cell_type": "markdown",
   "metadata": {
    "id": "WvflnxyY97a1"
   },
   "source": [
    "## Get nearest neighbors of a query"
   ]
  },
  {
   "cell_type": "code",
   "execution_count": null,
   "metadata": {
    "id": "6FrFe1-H-DIp"
   },
   "outputs": [],
   "source": [
    "# create faiss index\n",
    "inference_model.train_knn(dataset)"
   ]
  },
  {
   "cell_type": "code",
   "execution_count": null,
   "metadata": {
    "colab": {
     "base_uri": "https://localhost:8080/",
     "height": 881
    },
    "id": "jf48dl2OBV74",
    "outputId": "19a94b42-6c57-4c80-a819-9f3b58ff9534"
   },
   "outputs": [],
   "source": [
    "# get 10 nearest neighbors for a car image\n",
    "for img_type in [classA, classB]:\n",
    "    img = dataset[img_type[0]][0].unsqueeze(0)\n",
    "    print(\"query image\")\n",
    "    imshow(torchvision.utils.make_grid(img))\n",
    "    distances, indices = inference_model.get_nearest_neighbors(img, k=10)\n",
    "    nearest_imgs = [dataset[i][0] for i in indices.cpu()[0]]\n",
    "    print(\"nearest images\")\n",
    "    imshow(torchvision.utils.make_grid(nearest_imgs))"
   ]
  },
  {
   "cell_type": "markdown",
   "metadata": {
    "id": "jjZLaY5qi1uv"
   },
   "source": [
    "## Compare two images of the same class"
   ]
  },
  {
   "cell_type": "code",
   "execution_count": null,
   "metadata": {
    "colab": {
     "base_uri": "https://localhost:8080/",
     "height": 283
    },
    "id": "R42W1mwlXjBt",
    "outputId": "c4f6d641-33b5-4277-a0b5-1ef437fbff9c"
   },
   "outputs": [],
   "source": [
    "# compare two images of the same class\n",
    "(x, _), (y, _) = dataset[classA[0]], dataset[classA[1]]\n",
    "imshow(torchvision.utils.make_grid(torch.stack([x, y], dim=0)))\n",
    "decision = inference_model.is_match(x.unsqueeze(0), y.unsqueeze(0))\n",
    "print_decision(decision)"
   ]
  },
  {
   "cell_type": "markdown",
   "metadata": {
    "id": "ikC8rGD9i4lG"
   },
   "source": [
    "## Compare two images of different classes"
   ]
  },
  {
   "cell_type": "code",
   "execution_count": null,
   "metadata": {
    "colab": {
     "base_uri": "https://localhost:8080/",
     "height": 283
    },
    "id": "0UIj-AnSZVq8",
    "outputId": "8345371f-3eb6-4e27-c5dc-f831441ab4c9"
   },
   "outputs": [],
   "source": [
    "# compare two images of a different class\n",
    "(x, _), (y, _) = dataset[classA[0]], dataset[classB[0]]\n",
    "imshow(torchvision.utils.make_grid(torch.stack([x, y], dim=0)))\n",
    "decision = inference_model.is_match(x.unsqueeze(0), y.unsqueeze(0))\n",
    "print_decision(decision)"
   ]
  },
  {
   "cell_type": "markdown",
   "metadata": {
    "id": "AiHZXR6ki77J"
   },
   "source": [
    "## Compare multiple pairs of images"
   ]
  },
  {
   "cell_type": "code",
   "execution_count": null,
   "metadata": {
    "colab": {
     "base_uri": "https://localhost:8080/",
     "height": 579
    },
    "id": "tFXrTUigcVJn",
    "outputId": "9f5b4c52-1cee-448a-d519-e22e91a1746a"
   },
   "outputs": [],
   "source": [
    "# compare multiple pairs of images\n",
    "x = torch.zeros(20, 3, 32, 32)\n",
    "y = torch.zeros(20, 3, 32, 32)\n",
    "for i in range(0, 20, 2):\n",
    "    x[i] = dataset[classA[i]][0]\n",
    "    x[i + 1] = dataset[classB[i]][0]\n",
    "    y[i] = dataset[classA[i + 20]][0]\n",
    "    y[i + 1] = dataset[classB[i + 20]][0]\n",
    "imshow(torchvision.utils.make_grid(torch.cat((x, y), dim=0), nrow=20), figsize=(30, 3))\n",
    "decision = inference_model.is_match(x, y)\n",
    "for d in decision:\n",
    "    print_decision(d)\n",
    "print(\"accuracy = {}\".format(np.sum(decision) / len(x)))"
   ]
  },
  {
   "cell_type": "markdown",
   "metadata": {
    "id": "VvqLS2cci9vT"
   },
   "source": [
    "## Compare all pairs within a batch"
   ]
  },
  {
   "cell_type": "code",
   "execution_count": null,
   "metadata": {
    "colab": {
     "base_uri": "https://localhost:8080/",
     "height": 283
    },
    "id": "xd1MnZDgdJEt",
    "outputId": "1a770a1e-9b4c-49c9-de85-a809abe209f4"
   },
   "outputs": [],
   "source": [
    "# compare all pairs within a batch\n",
    "match_matrix = inference_model.get_matches(x)\n",
    "assert match_matrix[0, 0]  # the 0th image should match with itself\n",
    "imshow(torchvision.utils.make_grid(torch.stack((x[3], x[4]), dim=0)))\n",
    "print_decision(match_matrix[3, 4])  # does the 3rd image match the 4th image?"
   ]
  },
  {
   "cell_type": "markdown",
   "metadata": {
    "id": "w0Uvn5DCjBLy"
   },
   "source": [
    "## Compare all pairs between queries and references"
   ]
  },
  {
   "cell_type": "code",
   "execution_count": null,
   "metadata": {
    "colab": {
     "base_uri": "https://localhost:8080/",
     "height": 283
    },
    "id": "mxHIlREegSYw",
    "outputId": "91fb41dd-f043-45c0-de34-8de5c2ce5b11"
   },
   "outputs": [],
   "source": [
    "# compare all pairs between queries and references\n",
    "match_matrix = inference_model.get_matches(x, y)\n",
    "imshow(torchvision.utils.make_grid(torch.stack((x[6], y[6]), dim=0)))\n",
    "print_decision(match_matrix[6, 6])  # does the 6th query match the 6th reference?"
   ]
  },
  {
   "cell_type": "markdown",
   "metadata": {
    "id": "djkNbKsrjEC5"
   },
   "source": [
    "# Get results in tuple form"
   ]
  },
  {
   "cell_type": "code",
   "execution_count": null,
   "metadata": {
    "colab": {
     "base_uri": "https://localhost:8080/",
     "height": 1000
    },
    "id": "9VvFa4kKhHM6",
    "outputId": "b382d686-cfc8-44c4-cb6d-5f733b1e651e"
   },
   "outputs": [],
   "source": [
    "# make a new model with high threshold\n",
    "match_finder = MatchFinder(distance=CosineSimilarity(), threshold=0.95)\n",
    "inference_model = InferenceModel(model, match_finder=match_finder)\n",
    "\n",
    "# get all matches in tuple form\n",
    "match_tuples = inference_model.get_matches(x, y, return_tuples=True)\n",
    "print(\"MATCHING IMAGE PAIRS\")\n",
    "for i, j in match_tuples:\n",
    "    print(i, j)\n",
    "    imshow(torchvision.utils.make_grid(torch.stack((x[i], y[j]), dim=0)))"
   ]
  },
  {
   "cell_type": "code",
   "execution_count": null,
   "metadata": {
    "id": "6hW4jA5obEYH"
   },
   "outputs": [],
   "source": []
  }
 ],
 "metadata": {
  "accelerator": "GPU",
  "colab": {
   "collapsed_sections": [],
   "name": "Inference",
   "provenance": []
  },
  "kernelspec": {
   "display_name": "Python 3 (ipykernel)",
   "language": "python",
   "name": "python3"
  },
  "language_info": {
   "codemirror_mode": {
    "name": "ipython",
    "version": 3
   },
   "file_extension": ".py",
   "mimetype": "text/x-python",
   "name": "python",
   "nbconvert_exporter": "python",
   "pygments_lexer": "ipython3",
   "version": "3.8.5"
  },
  "widgets": {
   "application/vnd.jupyter.widget-state+json": {
    "0536d6fcec724304ae99a1fec79c0abc": {
     "model_module": "@jupyter-widgets/base",
     "model_module_version": "1.2.0",
     "model_name": "LayoutModel",
     "state": {
      "_model_module": "@jupyter-widgets/base",
      "_model_module_version": "1.2.0",
      "_model_name": "LayoutModel",
      "_view_count": null,
      "_view_module": "@jupyter-widgets/base",
      "_view_module_version": "1.2.0",
      "_view_name": "LayoutView",
      "align_content": null,
      "align_items": null,
      "align_self": null,
      "border": null,
      "bottom": null,
      "display": null,
      "flex": null,
      "flex_flow": null,
      "grid_area": null,
      "grid_auto_columns": null,
      "grid_auto_flow": null,
      "grid_auto_rows": null,
      "grid_column": null,
      "grid_gap": null,
      "grid_row": null,
      "grid_template_areas": null,
      "grid_template_columns": null,
      "grid_template_rows": null,
      "height": null,
      "justify_content": null,
      "justify_items": null,
      "left": null,
      "margin": null,
      "max_height": null,
      "max_width": null,
      "min_height": null,
      "min_width": null,
      "object_fit": null,
      "object_position": null,
      "order": null,
      "overflow": null,
      "overflow_x": null,
      "overflow_y": null,
      "padding": null,
      "right": null,
      "top": null,
      "visibility": null,
      "width": null
     }
    },
    "1b34a41cf4464908bca20fd96a79d14c": {
     "model_module": "@jupyter-widgets/controls",
     "model_module_version": "1.5.0",
     "model_name": "HBoxModel",
     "state": {
      "_dom_classes": [],
      "_model_module": "@jupyter-widgets/controls",
      "_model_module_version": "1.5.0",
      "_model_name": "HBoxModel",
      "_view_count": null,
      "_view_module": "@jupyter-widgets/controls",
      "_view_module_version": "1.5.0",
      "_view_name": "HBoxView",
      "box_style": "",
      "children": [
       "IPY_MODEL_e265fe42b65f4bcf8094a11236d0712b",
       "IPY_MODEL_5614a7f3118b4a139e79a978787da3e4",
       "IPY_MODEL_496ffb9dc80c4341819fd92e38de2e90"
      ],
      "layout": "IPY_MODEL_de581210f87d44dcaa2635af2e18cdae"
     }
    },
    "496ffb9dc80c4341819fd92e38de2e90": {
     "model_module": "@jupyter-widgets/controls",
     "model_module_version": "1.5.0",
     "model_name": "HTMLModel",
     "state": {
      "_dom_classes": [],
      "_model_module": "@jupyter-widgets/controls",
      "_model_module_version": "1.5.0",
      "_model_name": "HTMLModel",
      "_view_count": null,
      "_view_module": "@jupyter-widgets/controls",
      "_view_module_version": "1.5.0",
      "_view_name": "HTMLView",
      "description": "",
      "description_tooltip": null,
      "layout": "IPY_MODEL_8b5a365ffd044a88afa91232cf9a9e9f",
      "placeholder": "​",
      "style": "IPY_MODEL_e8dbeacd35534160a5d9a73e1435e80f",
      "value": " 170499072/? [00:03&lt;00:00, 54828342.74it/s]"
     }
    },
    "5614a7f3118b4a139e79a978787da3e4": {
     "model_module": "@jupyter-widgets/controls",
     "model_module_version": "1.5.0",
     "model_name": "FloatProgressModel",
     "state": {
      "_dom_classes": [],
      "_model_module": "@jupyter-widgets/controls",
      "_model_module_version": "1.5.0",
      "_model_name": "FloatProgressModel",
      "_view_count": null,
      "_view_module": "@jupyter-widgets/controls",
      "_view_module_version": "1.5.0",
      "_view_name": "ProgressView",
      "bar_style": "success",
      "description": "",
      "description_tooltip": null,
      "layout": "IPY_MODEL_0536d6fcec724304ae99a1fec79c0abc",
      "max": 170498071,
      "min": 0,
      "orientation": "horizontal",
      "style": "IPY_MODEL_9f2e34c751d741a79746f146de2fa020",
      "value": 170498071
     }
    },
    "7a3f89c1cad445a88c488278d2a4cf7e": {
     "model_module": "@jupyter-widgets/controls",
     "model_module_version": "1.5.0",
     "model_name": "DescriptionStyleModel",
     "state": {
      "_model_module": "@jupyter-widgets/controls",
      "_model_module_version": "1.5.0",
      "_model_name": "DescriptionStyleModel",
      "_view_count": null,
      "_view_module": "@jupyter-widgets/base",
      "_view_module_version": "1.2.0",
      "_view_name": "StyleView",
      "description_width": ""
     }
    },
    "8b5a365ffd044a88afa91232cf9a9e9f": {
     "model_module": "@jupyter-widgets/base",
     "model_module_version": "1.2.0",
     "model_name": "LayoutModel",
     "state": {
      "_model_module": "@jupyter-widgets/base",
      "_model_module_version": "1.2.0",
      "_model_name": "LayoutModel",
      "_view_count": null,
      "_view_module": "@jupyter-widgets/base",
      "_view_module_version": "1.2.0",
      "_view_name": "LayoutView",
      "align_content": null,
      "align_items": null,
      "align_self": null,
      "border": null,
      "bottom": null,
      "display": null,
      "flex": null,
      "flex_flow": null,
      "grid_area": null,
      "grid_auto_columns": null,
      "grid_auto_flow": null,
      "grid_auto_rows": null,
      "grid_column": null,
      "grid_gap": null,
      "grid_row": null,
      "grid_template_areas": null,
      "grid_template_columns": null,
      "grid_template_rows": null,
      "height": null,
      "justify_content": null,
      "justify_items": null,
      "left": null,
      "margin": null,
      "max_height": null,
      "max_width": null,
      "min_height": null,
      "min_width": null,
      "object_fit": null,
      "object_position": null,
      "order": null,
      "overflow": null,
      "overflow_x": null,
      "overflow_y": null,
      "padding": null,
      "right": null,
      "top": null,
      "visibility": null,
      "width": null
     }
    },
    "9edaff6c2c654aae93310c7df1015ce1": {
     "model_module": "@jupyter-widgets/base",
     "model_module_version": "1.2.0",
     "model_name": "LayoutModel",
     "state": {
      "_model_module": "@jupyter-widgets/base",
      "_model_module_version": "1.2.0",
      "_model_name": "LayoutModel",
      "_view_count": null,
      "_view_module": "@jupyter-widgets/base",
      "_view_module_version": "1.2.0",
      "_view_name": "LayoutView",
      "align_content": null,
      "align_items": null,
      "align_self": null,
      "border": null,
      "bottom": null,
      "display": null,
      "flex": null,
      "flex_flow": null,
      "grid_area": null,
      "grid_auto_columns": null,
      "grid_auto_flow": null,
      "grid_auto_rows": null,
      "grid_column": null,
      "grid_gap": null,
      "grid_row": null,
      "grid_template_areas": null,
      "grid_template_columns": null,
      "grid_template_rows": null,
      "height": null,
      "justify_content": null,
      "justify_items": null,
      "left": null,
      "margin": null,
      "max_height": null,
      "max_width": null,
      "min_height": null,
      "min_width": null,
      "object_fit": null,
      "object_position": null,
      "order": null,
      "overflow": null,
      "overflow_x": null,
      "overflow_y": null,
      "padding": null,
      "right": null,
      "top": null,
      "visibility": null,
      "width": null
     }
    },
    "9f2e34c751d741a79746f146de2fa020": {
     "model_module": "@jupyter-widgets/controls",
     "model_module_version": "1.5.0",
     "model_name": "ProgressStyleModel",
     "state": {
      "_model_module": "@jupyter-widgets/controls",
      "_model_module_version": "1.5.0",
      "_model_name": "ProgressStyleModel",
      "_view_count": null,
      "_view_module": "@jupyter-widgets/base",
      "_view_module_version": "1.2.0",
      "_view_name": "StyleView",
      "bar_color": null,
      "description_width": ""
     }
    },
    "de581210f87d44dcaa2635af2e18cdae": {
     "model_module": "@jupyter-widgets/base",
     "model_module_version": "1.2.0",
     "model_name": "LayoutModel",
     "state": {
      "_model_module": "@jupyter-widgets/base",
      "_model_module_version": "1.2.0",
      "_model_name": "LayoutModel",
      "_view_count": null,
      "_view_module": "@jupyter-widgets/base",
      "_view_module_version": "1.2.0",
      "_view_name": "LayoutView",
      "align_content": null,
      "align_items": null,
      "align_self": null,
      "border": null,
      "bottom": null,
      "display": null,
      "flex": null,
      "flex_flow": null,
      "grid_area": null,
      "grid_auto_columns": null,
      "grid_auto_flow": null,
      "grid_auto_rows": null,
      "grid_column": null,
      "grid_gap": null,
      "grid_row": null,
      "grid_template_areas": null,
      "grid_template_columns": null,
      "grid_template_rows": null,
      "height": null,
      "justify_content": null,
      "justify_items": null,
      "left": null,
      "margin": null,
      "max_height": null,
      "max_width": null,
      "min_height": null,
      "min_width": null,
      "object_fit": null,
      "object_position": null,
      "order": null,
      "overflow": null,
      "overflow_x": null,
      "overflow_y": null,
      "padding": null,
      "right": null,
      "top": null,
      "visibility": null,
      "width": null
     }
    },
    "e265fe42b65f4bcf8094a11236d0712b": {
     "model_module": "@jupyter-widgets/controls",
     "model_module_version": "1.5.0",
     "model_name": "HTMLModel",
     "state": {
      "_dom_classes": [],
      "_model_module": "@jupyter-widgets/controls",
      "_model_module_version": "1.5.0",
      "_model_name": "HTMLModel",
      "_view_count": null,
      "_view_module": "@jupyter-widgets/controls",
      "_view_module_version": "1.5.0",
      "_view_name": "HTMLView",
      "description": "",
      "description_tooltip": null,
      "layout": "IPY_MODEL_9edaff6c2c654aae93310c7df1015ce1",
      "placeholder": "​",
      "style": "IPY_MODEL_7a3f89c1cad445a88c488278d2a4cf7e",
      "value": ""
     }
    },
    "e8dbeacd35534160a5d9a73e1435e80f": {
     "model_module": "@jupyter-widgets/controls",
     "model_module_version": "1.5.0",
     "model_name": "DescriptionStyleModel",
     "state": {
      "_model_module": "@jupyter-widgets/controls",
      "_model_module_version": "1.5.0",
      "_model_name": "DescriptionStyleModel",
      "_view_count": null,
      "_view_module": "@jupyter-widgets/base",
      "_view_module_version": "1.2.0",
      "_view_name": "StyleView",
      "description_width": ""
     }
    }
   }
  }
 },
 "nbformat": 4,
 "nbformat_minor": 4
}
